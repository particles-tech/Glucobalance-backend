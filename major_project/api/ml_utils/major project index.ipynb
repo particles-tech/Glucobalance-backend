{
 "cells": [
  {
   "cell_type": "code",
   "execution_count": 1,
   "metadata": {
    "_cell_guid": "b1076dfc-b9ad-4769-8c92-a6c4dae69d19",
    "_uuid": "8f2839f25d086af736a60e9eeb907d3b93b6e0e5",
    "execution": {
     "iopub.execute_input": "2025-05-18T07:58:13.086522Z",
     "iopub.status.busy": "2025-05-18T07:58:13.086198Z",
     "iopub.status.idle": "2025-05-18T07:58:13.448229Z",
     "shell.execute_reply": "2025-05-18T07:58:13.447228Z",
     "shell.execute_reply.started": "2025-05-18T07:58:13.086492Z"
    },
    "trusted": true
   },
   "outputs": [
    {
     "name": "stdout",
     "output_type": "stream",
     "text": [
      "/kaggle/input/diabetes-dataset/sensor_data.csv\n",
      "/kaggle/input/diabetes-dataset/result_diabetes.xlsx\n"
     ]
    }
   ],
   "source": [
    "# This Python 3 environment comes with many helpful analytics libraries installed\n",
    "# It is defined by the kaggle/python Docker image: https://github.com/kaggle/docker-python\n",
    "# For example, here's several helpful packages to load\n",
    "\n",
    "import numpy as np # linear algebra\n",
    "import pandas as pd # data processing, CSV file I/O (e.g. pd.read_csv)\n",
    "\n",
    "# Input data files are available in the read-only \"../input/\" directory\n",
    "# For example, running this (by clicking run or pressing Shift+Enter) will list all files under the input directory\n",
    "\n",
    "import os\n",
    "for dirname, _, filenames in os.walk('/kaggle/input'):\n",
    "    for filename in filenames:\n",
    "        print(os.path.join(dirname, filename))\n",
    "\n",
    "# You can write up to 20GB to the current directory (/kaggle/working/) that gets preserved as output when you create a version using \"Save & Run All\" \n",
    "# You can also write temporary files to /kaggle/temp/, but they won't be saved outside of the current session"
   ]
  },
  {
   "cell_type": "code",
   "execution_count": 2,
   "metadata": {
    "execution": {
     "iopub.execute_input": "2025-05-18T07:58:13.449714Z",
     "iopub.status.busy": "2025-05-18T07:58:13.449280Z",
     "iopub.status.idle": "2025-05-18T07:58:14.244131Z",
     "shell.execute_reply": "2025-05-18T07:58:14.243206Z",
     "shell.execute_reply.started": "2025-05-18T07:58:13.449683Z"
    },
    "trusted": true
   },
   "outputs": [],
   "source": [
    "# Re-read inputdf with no header\n",
    "inputdf = pd.read_csv('/kaggle/input/diabetes-dataset/sensor_data.csv', header=None)\n",
    "\n",
    "# Generate correct column names\n",
    "labels = ['white', 'red', 'ir', 'green', 'none']\n",
    "new_columns = [f'{label}{i+1}' for label in labels for i in range(10)]\n",
    "inputdf.columns = new_columns\n",
    "\n",
    "# For outputdf Excel file — assume it has no header too\n",
    "outputdf = pd.read_excel('/kaggle/input/diabetes-dataset/result_diabetes.xlsx', header=None)\n",
    "\n",
    "\n",
    "outputdf.columns = ['value']\n",
    "\n"
   ]
  },
  {
   "cell_type": "code",
   "execution_count": 3,
   "metadata": {
    "execution": {
     "iopub.execute_input": "2025-05-18T07:58:20.114838Z",
     "iopub.status.busy": "2025-05-18T07:58:20.114533Z",
     "iopub.status.idle": "2025-05-18T07:58:20.177933Z",
     "shell.execute_reply": "2025-05-18T07:58:20.176959Z",
     "shell.execute_reply.started": "2025-05-18T07:58:20.114815Z"
    },
    "trusted": true
   },
   "outputs": [
    {
     "data": {
      "text/html": [
       "<div>\n",
       "<style scoped>\n",
       "    .dataframe tbody tr th:only-of-type {\n",
       "        vertical-align: middle;\n",
       "    }\n",
       "\n",
       "    .dataframe tbody tr th {\n",
       "        vertical-align: top;\n",
       "    }\n",
       "\n",
       "    .dataframe thead th {\n",
       "        text-align: right;\n",
       "    }\n",
       "</style>\n",
       "<table border=\"1\" class=\"dataframe\">\n",
       "  <thead>\n",
       "    <tr style=\"text-align: right;\">\n",
       "      <th></th>\n",
       "      <th>white1</th>\n",
       "      <th>white2</th>\n",
       "      <th>white3</th>\n",
       "      <th>white4</th>\n",
       "      <th>white5</th>\n",
       "      <th>white6</th>\n",
       "      <th>white7</th>\n",
       "      <th>white8</th>\n",
       "      <th>white9</th>\n",
       "      <th>white10</th>\n",
       "      <th>...</th>\n",
       "      <th>none1</th>\n",
       "      <th>none2</th>\n",
       "      <th>none3</th>\n",
       "      <th>none4</th>\n",
       "      <th>none5</th>\n",
       "      <th>none6</th>\n",
       "      <th>none7</th>\n",
       "      <th>none8</th>\n",
       "      <th>none9</th>\n",
       "      <th>none10</th>\n",
       "    </tr>\n",
       "  </thead>\n",
       "  <tbody>\n",
       "    <tr>\n",
       "      <th>0</th>\n",
       "      <td>936.2</td>\n",
       "      <td>1877.9</td>\n",
       "      <td>3700.4</td>\n",
       "      <td>3904.3</td>\n",
       "      <td>5075.8</td>\n",
       "      <td>6901.5</td>\n",
       "      <td>10201.0</td>\n",
       "      <td>10201.0</td>\n",
       "      <td>10201.0</td>\n",
       "      <td>4403.6</td>\n",
       "      <td>...</td>\n",
       "      <td>23.1</td>\n",
       "      <td>26.5</td>\n",
       "      <td>26.6</td>\n",
       "      <td>38.3</td>\n",
       "      <td>30.6</td>\n",
       "      <td>33.5</td>\n",
       "      <td>50.3</td>\n",
       "      <td>103.9</td>\n",
       "      <td>453.9</td>\n",
       "      <td>486.4</td>\n",
       "    </tr>\n",
       "    <tr>\n",
       "      <th>1</th>\n",
       "      <td>929.7</td>\n",
       "      <td>1882.9</td>\n",
       "      <td>3706.4</td>\n",
       "      <td>3922.2</td>\n",
       "      <td>5114.2</td>\n",
       "      <td>6887.7</td>\n",
       "      <td>10201.0</td>\n",
       "      <td>10201.0</td>\n",
       "      <td>10201.0</td>\n",
       "      <td>4373.9</td>\n",
       "      <td>...</td>\n",
       "      <td>21.1</td>\n",
       "      <td>24.3</td>\n",
       "      <td>24.7</td>\n",
       "      <td>36.3</td>\n",
       "      <td>29.0</td>\n",
       "      <td>31.9</td>\n",
       "      <td>47.2</td>\n",
       "      <td>94.7</td>\n",
       "      <td>419.8</td>\n",
       "      <td>441.8</td>\n",
       "    </tr>\n",
       "    <tr>\n",
       "      <th>2</th>\n",
       "      <td>1102.9</td>\n",
       "      <td>2162.1</td>\n",
       "      <td>4172.8</td>\n",
       "      <td>4560.1</td>\n",
       "      <td>6118.2</td>\n",
       "      <td>8399.4</td>\n",
       "      <td>10201.0</td>\n",
       "      <td>10201.0</td>\n",
       "      <td>10201.0</td>\n",
       "      <td>4987.7</td>\n",
       "      <td>...</td>\n",
       "      <td>28.9</td>\n",
       "      <td>33.5</td>\n",
       "      <td>33.5</td>\n",
       "      <td>47.3</td>\n",
       "      <td>38.4</td>\n",
       "      <td>42.2</td>\n",
       "      <td>67.0</td>\n",
       "      <td>136.7</td>\n",
       "      <td>574.0</td>\n",
       "      <td>590.2</td>\n",
       "    </tr>\n",
       "    <tr>\n",
       "      <th>3</th>\n",
       "      <td>1172.2</td>\n",
       "      <td>2326.6</td>\n",
       "      <td>4552.4</td>\n",
       "      <td>4984.6</td>\n",
       "      <td>6614.3</td>\n",
       "      <td>9101.1</td>\n",
       "      <td>10201.0</td>\n",
       "      <td>10201.0</td>\n",
       "      <td>10201.0</td>\n",
       "      <td>5462.3</td>\n",
       "      <td>...</td>\n",
       "      <td>33.1</td>\n",
       "      <td>38.1</td>\n",
       "      <td>38.5</td>\n",
       "      <td>56.8</td>\n",
       "      <td>45.1</td>\n",
       "      <td>49.3</td>\n",
       "      <td>79.8</td>\n",
       "      <td>158.5</td>\n",
       "      <td>650.3</td>\n",
       "      <td>650.4</td>\n",
       "    </tr>\n",
       "    <tr>\n",
       "      <th>4</th>\n",
       "      <td>575.2</td>\n",
       "      <td>779.7</td>\n",
       "      <td>1335.3</td>\n",
       "      <td>1586.9</td>\n",
       "      <td>2107.2</td>\n",
       "      <td>3825.8</td>\n",
       "      <td>10201.0</td>\n",
       "      <td>10197.3</td>\n",
       "      <td>10201.0</td>\n",
       "      <td>2698.2</td>\n",
       "      <td>...</td>\n",
       "      <td>19.7</td>\n",
       "      <td>22.7</td>\n",
       "      <td>22.4</td>\n",
       "      <td>31.0</td>\n",
       "      <td>24.0</td>\n",
       "      <td>27.5</td>\n",
       "      <td>36.3</td>\n",
       "      <td>65.0</td>\n",
       "      <td>391.3</td>\n",
       "      <td>449.2</td>\n",
       "    </tr>\n",
       "    <tr>\n",
       "      <th>...</th>\n",
       "      <td>...</td>\n",
       "      <td>...</td>\n",
       "      <td>...</td>\n",
       "      <td>...</td>\n",
       "      <td>...</td>\n",
       "      <td>...</td>\n",
       "      <td>...</td>\n",
       "      <td>...</td>\n",
       "      <td>...</td>\n",
       "      <td>...</td>\n",
       "      <td>...</td>\n",
       "      <td>...</td>\n",
       "      <td>...</td>\n",
       "      <td>...</td>\n",
       "      <td>...</td>\n",
       "      <td>...</td>\n",
       "      <td>...</td>\n",
       "      <td>...</td>\n",
       "      <td>...</td>\n",
       "      <td>...</td>\n",
       "      <td>...</td>\n",
       "    </tr>\n",
       "    <tr>\n",
       "      <th>129</th>\n",
       "      <td>815.7</td>\n",
       "      <td>1317.6</td>\n",
       "      <td>2377.6</td>\n",
       "      <td>2806.0</td>\n",
       "      <td>3765.6</td>\n",
       "      <td>6091.7</td>\n",
       "      <td>10201.0</td>\n",
       "      <td>10201.0</td>\n",
       "      <td>10201.0</td>\n",
       "      <td>3564.6</td>\n",
       "      <td>...</td>\n",
       "      <td>19.0</td>\n",
       "      <td>22.5</td>\n",
       "      <td>23.9</td>\n",
       "      <td>33.2</td>\n",
       "      <td>30.9</td>\n",
       "      <td>36.4</td>\n",
       "      <td>71.8</td>\n",
       "      <td>142.9</td>\n",
       "      <td>415.7</td>\n",
       "      <td>341.4</td>\n",
       "    </tr>\n",
       "    <tr>\n",
       "      <th>130</th>\n",
       "      <td>351.8</td>\n",
       "      <td>405.5</td>\n",
       "      <td>586.2</td>\n",
       "      <td>687.7</td>\n",
       "      <td>919.0</td>\n",
       "      <td>1819.5</td>\n",
       "      <td>6355.2</td>\n",
       "      <td>7116.9</td>\n",
       "      <td>10201.0</td>\n",
       "      <td>1734.1</td>\n",
       "      <td>...</td>\n",
       "      <td>24.0</td>\n",
       "      <td>28.5</td>\n",
       "      <td>31.2</td>\n",
       "      <td>39.6</td>\n",
       "      <td>39.3</td>\n",
       "      <td>48.6</td>\n",
       "      <td>93.4</td>\n",
       "      <td>186.7</td>\n",
       "      <td>490.1</td>\n",
       "      <td>412.4</td>\n",
       "    </tr>\n",
       "    <tr>\n",
       "      <th>131</th>\n",
       "      <td>351.0</td>\n",
       "      <td>413.0</td>\n",
       "      <td>619.5</td>\n",
       "      <td>726.6</td>\n",
       "      <td>964.1</td>\n",
       "      <td>1839.3</td>\n",
       "      <td>6267.3</td>\n",
       "      <td>7015.7</td>\n",
       "      <td>10201.0</td>\n",
       "      <td>1711.6</td>\n",
       "      <td>...</td>\n",
       "      <td>23.9</td>\n",
       "      <td>28.7</td>\n",
       "      <td>31.3</td>\n",
       "      <td>39.9</td>\n",
       "      <td>38.9</td>\n",
       "      <td>47.6</td>\n",
       "      <td>92.0</td>\n",
       "      <td>185.0</td>\n",
       "      <td>485.6</td>\n",
       "      <td>410.9</td>\n",
       "    </tr>\n",
       "    <tr>\n",
       "      <th>132</th>\n",
       "      <td>862.6</td>\n",
       "      <td>1579.2</td>\n",
       "      <td>3061.1</td>\n",
       "      <td>3311.4</td>\n",
       "      <td>4339.8</td>\n",
       "      <td>6201.2</td>\n",
       "      <td>10201.0</td>\n",
       "      <td>10201.0</td>\n",
       "      <td>10201.0</td>\n",
       "      <td>3844.6</td>\n",
       "      <td>...</td>\n",
       "      <td>20.0</td>\n",
       "      <td>22.8</td>\n",
       "      <td>25.5</td>\n",
       "      <td>39.0</td>\n",
       "      <td>35.0</td>\n",
       "      <td>40.0</td>\n",
       "      <td>72.0</td>\n",
       "      <td>146.3</td>\n",
       "      <td>417.9</td>\n",
       "      <td>356.8</td>\n",
       "    </tr>\n",
       "    <tr>\n",
       "      <th>133</th>\n",
       "      <td>805.7</td>\n",
       "      <td>1471.7</td>\n",
       "      <td>2874.5</td>\n",
       "      <td>3084.3</td>\n",
       "      <td>4001.9</td>\n",
       "      <td>5628.4</td>\n",
       "      <td>10201.0</td>\n",
       "      <td>10201.0</td>\n",
       "      <td>10201.0</td>\n",
       "      <td>3564.4</td>\n",
       "      <td>...</td>\n",
       "      <td>17.0</td>\n",
       "      <td>19.8</td>\n",
       "      <td>21.6</td>\n",
       "      <td>34.0</td>\n",
       "      <td>29.2</td>\n",
       "      <td>32.8</td>\n",
       "      <td>58.7</td>\n",
       "      <td>119.9</td>\n",
       "      <td>361.4</td>\n",
       "      <td>318.0</td>\n",
       "    </tr>\n",
       "  </tbody>\n",
       "</table>\n",
       "<p>134 rows × 50 columns</p>\n",
       "</div>"
      ],
      "text/plain": [
       "     white1  white2  white3  white4  white5  white6   white7   white8  \\\n",
       "0     936.2  1877.9  3700.4  3904.3  5075.8  6901.5  10201.0  10201.0   \n",
       "1     929.7  1882.9  3706.4  3922.2  5114.2  6887.7  10201.0  10201.0   \n",
       "2    1102.9  2162.1  4172.8  4560.1  6118.2  8399.4  10201.0  10201.0   \n",
       "3    1172.2  2326.6  4552.4  4984.6  6614.3  9101.1  10201.0  10201.0   \n",
       "4     575.2   779.7  1335.3  1586.9  2107.2  3825.8  10201.0  10197.3   \n",
       "..      ...     ...     ...     ...     ...     ...      ...      ...   \n",
       "129   815.7  1317.6  2377.6  2806.0  3765.6  6091.7  10201.0  10201.0   \n",
       "130   351.8   405.5   586.2   687.7   919.0  1819.5   6355.2   7116.9   \n",
       "131   351.0   413.0   619.5   726.6   964.1  1839.3   6267.3   7015.7   \n",
       "132   862.6  1579.2  3061.1  3311.4  4339.8  6201.2  10201.0  10201.0   \n",
       "133   805.7  1471.7  2874.5  3084.3  4001.9  5628.4  10201.0  10201.0   \n",
       "\n",
       "      white9  white10  ...  none1  none2  none3  none4  none5  none6  none7  \\\n",
       "0    10201.0   4403.6  ...   23.1   26.5   26.6   38.3   30.6   33.5   50.3   \n",
       "1    10201.0   4373.9  ...   21.1   24.3   24.7   36.3   29.0   31.9   47.2   \n",
       "2    10201.0   4987.7  ...   28.9   33.5   33.5   47.3   38.4   42.2   67.0   \n",
       "3    10201.0   5462.3  ...   33.1   38.1   38.5   56.8   45.1   49.3   79.8   \n",
       "4    10201.0   2698.2  ...   19.7   22.7   22.4   31.0   24.0   27.5   36.3   \n",
       "..       ...      ...  ...    ...    ...    ...    ...    ...    ...    ...   \n",
       "129  10201.0   3564.6  ...   19.0   22.5   23.9   33.2   30.9   36.4   71.8   \n",
       "130  10201.0   1734.1  ...   24.0   28.5   31.2   39.6   39.3   48.6   93.4   \n",
       "131  10201.0   1711.6  ...   23.9   28.7   31.3   39.9   38.9   47.6   92.0   \n",
       "132  10201.0   3844.6  ...   20.0   22.8   25.5   39.0   35.0   40.0   72.0   \n",
       "133  10201.0   3564.4  ...   17.0   19.8   21.6   34.0   29.2   32.8   58.7   \n",
       "\n",
       "     none8  none9  none10  \n",
       "0    103.9  453.9   486.4  \n",
       "1     94.7  419.8   441.8  \n",
       "2    136.7  574.0   590.2  \n",
       "3    158.5  650.3   650.4  \n",
       "4     65.0  391.3   449.2  \n",
       "..     ...    ...     ...  \n",
       "129  142.9  415.7   341.4  \n",
       "130  186.7  490.1   412.4  \n",
       "131  185.0  485.6   410.9  \n",
       "132  146.3  417.9   356.8  \n",
       "133  119.9  361.4   318.0  \n",
       "\n",
       "[134 rows x 50 columns]"
      ]
     },
     "execution_count": 3,
     "metadata": {},
     "output_type": "execute_result"
    }
   ],
   "source": [
    "# Calculate the number of groups\n",
    "num_groups = len(inputdf) // 10\n",
    "\n",
    "# Reshape the DataFrame values and compute the mean\n",
    "averaged_values = inputdf.values.reshape(num_groups, 10, -1).mean(axis=1)\n",
    "\n",
    "# Create a new DataFrame with the averaged values\n",
    "averaged_df = pd.DataFrame(averaged_values, columns=inputdf.columns)\n",
    "\n",
    "# Display the result\n",
    "averaged_df\n"
   ]
  },
  {
   "cell_type": "code",
   "execution_count": 4,
   "metadata": {
    "execution": {
     "iopub.execute_input": "2025-05-18T07:58:22.870142Z",
     "iopub.status.busy": "2025-05-18T07:58:22.868889Z",
     "iopub.status.idle": "2025-05-18T07:58:23.637387Z",
     "shell.execute_reply": "2025-05-18T07:58:23.635951Z",
     "shell.execute_reply.started": "2025-05-18T07:58:22.870099Z"
    },
    "trusted": true
   },
   "outputs": [],
   "source": [
    "from sklearn.model_selection import train_test_split\n",
    "X = averaged_df\n",
    "y = outputdf\n"
   ]
  },
  {
   "cell_type": "code",
   "execution_count": 9,
   "metadata": {
    "execution": {
     "iopub.execute_input": "2025-05-18T07:59:17.857277Z",
     "iopub.status.busy": "2025-05-18T07:59:17.856947Z",
     "iopub.status.idle": "2025-05-18T07:59:17.865985Z",
     "shell.execute_reply": "2025-05-18T07:59:17.864469Z",
     "shell.execute_reply.started": "2025-05-18T07:59:17.857233Z"
    },
    "trusted": true
   },
   "outputs": [],
   "source": [
    "X_train, X_test, y_train, y_test = train_test_split(X,y,test_size=0.2, random_state=42)\n",
    "\n"
   ]
  },
  {
   "cell_type": "code",
   "execution_count": 10,
   "metadata": {
    "execution": {
     "iopub.execute_input": "2025-05-18T07:59:20.770242Z",
     "iopub.status.busy": "2025-05-18T07:59:20.769925Z",
     "iopub.status.idle": "2025-05-18T07:59:20.786390Z",
     "shell.execute_reply": "2025-05-18T07:59:20.785556Z",
     "shell.execute_reply.started": "2025-05-18T07:59:20.770219Z"
    },
    "trusted": true
   },
   "outputs": [
    {
     "data": {
      "text/html": [
       "<style>#sk-container-id-2 {color: black;background-color: white;}#sk-container-id-2 pre{padding: 0;}#sk-container-id-2 div.sk-toggleable {background-color: white;}#sk-container-id-2 label.sk-toggleable__label {cursor: pointer;display: block;width: 100%;margin-bottom: 0;padding: 0.3em;box-sizing: border-box;text-align: center;}#sk-container-id-2 label.sk-toggleable__label-arrow:before {content: \"▸\";float: left;margin-right: 0.25em;color: #696969;}#sk-container-id-2 label.sk-toggleable__label-arrow:hover:before {color: black;}#sk-container-id-2 div.sk-estimator:hover label.sk-toggleable__label-arrow:before {color: black;}#sk-container-id-2 div.sk-toggleable__content {max-height: 0;max-width: 0;overflow: hidden;text-align: left;background-color: #f0f8ff;}#sk-container-id-2 div.sk-toggleable__content pre {margin: 0.2em;color: black;border-radius: 0.25em;background-color: #f0f8ff;}#sk-container-id-2 input.sk-toggleable__control:checked~div.sk-toggleable__content {max-height: 200px;max-width: 100%;overflow: auto;}#sk-container-id-2 input.sk-toggleable__control:checked~label.sk-toggleable__label-arrow:before {content: \"▾\";}#sk-container-id-2 div.sk-estimator input.sk-toggleable__control:checked~label.sk-toggleable__label {background-color: #d4ebff;}#sk-container-id-2 div.sk-label input.sk-toggleable__control:checked~label.sk-toggleable__label {background-color: #d4ebff;}#sk-container-id-2 input.sk-hidden--visually {border: 0;clip: rect(1px 1px 1px 1px);clip: rect(1px, 1px, 1px, 1px);height: 1px;margin: -1px;overflow: hidden;padding: 0;position: absolute;width: 1px;}#sk-container-id-2 div.sk-estimator {font-family: monospace;background-color: #f0f8ff;border: 1px dotted black;border-radius: 0.25em;box-sizing: border-box;margin-bottom: 0.5em;}#sk-container-id-2 div.sk-estimator:hover {background-color: #d4ebff;}#sk-container-id-2 div.sk-parallel-item::after {content: \"\";width: 100%;border-bottom: 1px solid gray;flex-grow: 1;}#sk-container-id-2 div.sk-label:hover label.sk-toggleable__label {background-color: #d4ebff;}#sk-container-id-2 div.sk-serial::before {content: \"\";position: absolute;border-left: 1px solid gray;box-sizing: border-box;top: 0;bottom: 0;left: 50%;z-index: 0;}#sk-container-id-2 div.sk-serial {display: flex;flex-direction: column;align-items: center;background-color: white;padding-right: 0.2em;padding-left: 0.2em;position: relative;}#sk-container-id-2 div.sk-item {position: relative;z-index: 1;}#sk-container-id-2 div.sk-parallel {display: flex;align-items: stretch;justify-content: center;background-color: white;position: relative;}#sk-container-id-2 div.sk-item::before, #sk-container-id-2 div.sk-parallel-item::before {content: \"\";position: absolute;border-left: 1px solid gray;box-sizing: border-box;top: 0;bottom: 0;left: 50%;z-index: -1;}#sk-container-id-2 div.sk-parallel-item {display: flex;flex-direction: column;z-index: 1;position: relative;background-color: white;}#sk-container-id-2 div.sk-parallel-item:first-child::after {align-self: flex-end;width: 50%;}#sk-container-id-2 div.sk-parallel-item:last-child::after {align-self: flex-start;width: 50%;}#sk-container-id-2 div.sk-parallel-item:only-child::after {width: 0;}#sk-container-id-2 div.sk-dashed-wrapped {border: 1px dashed gray;margin: 0 0.4em 0.5em 0.4em;box-sizing: border-box;padding-bottom: 0.4em;background-color: white;}#sk-container-id-2 div.sk-label label {font-family: monospace;font-weight: bold;display: inline-block;line-height: 1.2em;}#sk-container-id-2 div.sk-label-container {text-align: center;}#sk-container-id-2 div.sk-container {/* jupyter's `normalize.less` sets `[hidden] { display: none; }` but bootstrap.min.css set `[hidden] { display: none !important; }` so we also need the `!important` here to be able to override the default hidden behavior on the sphinx rendered scikit-learn.org. See: https://github.com/scikit-learn/scikit-learn/issues/21755 */display: inline-block !important;position: relative;}#sk-container-id-2 div.sk-text-repr-fallback {display: none;}</style><div id=\"sk-container-id-2\" class=\"sk-top-container\"><div class=\"sk-text-repr-fallback\"><pre>Pipeline(steps=[(&#x27;scaler&#x27;, StandardScaler()), (&#x27;model&#x27;, LinearRegression())])</pre><b>In a Jupyter environment, please rerun this cell to show the HTML representation or trust the notebook. <br />On GitHub, the HTML representation is unable to render, please try loading this page with nbviewer.org.</b></div><div class=\"sk-container\" hidden><div class=\"sk-item sk-dashed-wrapped\"><div class=\"sk-label-container\"><div class=\"sk-label sk-toggleable\"><input class=\"sk-toggleable__control sk-hidden--visually\" id=\"sk-estimator-id-4\" type=\"checkbox\" ><label for=\"sk-estimator-id-4\" class=\"sk-toggleable__label sk-toggleable__label-arrow\">Pipeline</label><div class=\"sk-toggleable__content\"><pre>Pipeline(steps=[(&#x27;scaler&#x27;, StandardScaler()), (&#x27;model&#x27;, LinearRegression())])</pre></div></div></div><div class=\"sk-serial\"><div class=\"sk-item\"><div class=\"sk-estimator sk-toggleable\"><input class=\"sk-toggleable__control sk-hidden--visually\" id=\"sk-estimator-id-5\" type=\"checkbox\" ><label for=\"sk-estimator-id-5\" class=\"sk-toggleable__label sk-toggleable__label-arrow\">StandardScaler</label><div class=\"sk-toggleable__content\"><pre>StandardScaler()</pre></div></div></div><div class=\"sk-item\"><div class=\"sk-estimator sk-toggleable\"><input class=\"sk-toggleable__control sk-hidden--visually\" id=\"sk-estimator-id-6\" type=\"checkbox\" ><label for=\"sk-estimator-id-6\" class=\"sk-toggleable__label sk-toggleable__label-arrow\">LinearRegression</label><div class=\"sk-toggleable__content\"><pre>LinearRegression()</pre></div></div></div></div></div></div></div>"
      ],
      "text/plain": [
       "Pipeline(steps=[('scaler', StandardScaler()), ('model', LinearRegression())])"
      ]
     },
     "execution_count": 10,
     "metadata": {},
     "output_type": "execute_result"
    }
   ],
   "source": [
    "from sklearn.pipeline import Pipeline\n",
    "from sklearn.preprocessing import StandardScaler\n",
    "from sklearn.linear_model import LinearRegression\n",
    "\n",
    "# Define pipeline\n",
    "pipe = Pipeline([\n",
    "    ('scaler', StandardScaler()),\n",
    "    ('model', LinearRegression())\n",
    "])\n",
    "\n",
    "# Fit on training data only\n",
    "pipe.fit(X_train, y_train)\n"
   ]
  },
  {
   "cell_type": "code",
   "execution_count": 11,
   "metadata": {
    "execution": {
     "iopub.execute_input": "2025-05-18T07:59:24.133812Z",
     "iopub.status.busy": "2025-05-18T07:59:24.133469Z",
     "iopub.status.idle": "2025-05-18T07:59:24.143535Z",
     "shell.execute_reply": "2025-05-18T07:59:24.142616Z",
     "shell.execute_reply.started": "2025-05-18T07:59:24.133788Z"
    },
    "trusted": true
   },
   "outputs": [
    {
     "name": "stdout",
     "output_type": "stream",
     "text": [
      "MSE on test data: 808.5415575512153\n"
     ]
    }
   ],
   "source": [
    "from sklearn.metrics import mean_squared_error\n",
    "\n",
    "# Predict on test set\n",
    "y_pred = pipe.predict(X_test)\n",
    "\n",
    "# Evaluate\n",
    "mse = mean_squared_error(y_test, y_pred)\n",
    "print(\"MSE on test data:\", mse)\n"
   ]
  },
  {
   "cell_type": "code",
   "execution_count": 12,
   "metadata": {
    "execution": {
     "iopub.execute_input": "2025-05-18T07:59:44.085334Z",
     "iopub.status.busy": "2025-05-18T07:59:44.085008Z",
     "iopub.status.idle": "2025-05-18T07:59:44.095449Z",
     "shell.execute_reply": "2025-05-18T07:59:44.094551Z",
     "shell.execute_reply.started": "2025-05-18T07:59:44.085309Z"
    },
    "trusted": true
   },
   "outputs": [
    {
     "name": "stdout",
     "output_type": "stream",
     "text": [
      "MSE on test data: 808.5415575512153\n"
     ]
    }
   ],
   "source": [
    "from sklearn.metrics import mean_squared_error\n",
    "\n",
    "# Predict on test set\n",
    "y_pred = pipe.predict(X_test)\n",
    "\n",
    "# Evaluate\n",
    "mse = mean_squared_error(y_test, y_pred)\n",
    "print(\"MSE on test data:\", mse)\n"
   ]
  },
  {
   "cell_type": "code",
   "execution_count": 13,
   "metadata": {
    "execution": {
     "iopub.execute_input": "2025-05-18T08:00:27.151913Z",
     "iopub.status.busy": "2025-05-18T08:00:27.151581Z",
     "iopub.status.idle": "2025-05-18T08:00:27.160059Z",
     "shell.execute_reply": "2025-05-18T08:00:27.159237Z",
     "shell.execute_reply.started": "2025-05-18T08:00:27.151890Z"
    },
    "trusted": true
   },
   "outputs": [
    {
     "data": {
      "text/plain": [
       "['model_pipeline.joblib']"
      ]
     },
     "execution_count": 13,
     "metadata": {},
     "output_type": "execute_result"
    }
   ],
   "source": [
    "import joblib\n",
    "joblib.dump(pipe, 'model_pipeline.joblib')\n"
   ]
  },
  {
   "cell_type": "code",
   "execution_count": null,
   "metadata": {
    "trusted": true
   },
   "outputs": [],
   "source": []
  }
 ],
 "metadata": {
  "kaggle": {
   "accelerator": "none",
   "dataSources": [
    {
     "datasetId": 7427238,
     "sourceId": 11842262,
     "sourceType": "datasetVersion"
    }
   ],
   "dockerImageVersionId": 31040,
   "isGpuEnabled": false,
   "isInternetEnabled": true,
   "language": "python",
   "sourceType": "notebook"
  },
  "kernelspec": {
   "display_name": "Python 3",
   "language": "python",
   "name": "python3"
  },
  "language_info": {
   "codemirror_mode": {
    "name": "ipython",
    "version": 3
   },
   "file_extension": ".py",
   "mimetype": "text/x-python",
   "name": "python",
   "nbconvert_exporter": "python",
   "pygments_lexer": "ipython3",
   "version": "3.10.12"
  }
 },
 "nbformat": 4,
 "nbformat_minor": 4
}
